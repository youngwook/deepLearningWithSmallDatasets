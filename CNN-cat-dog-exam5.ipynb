{
 "cells": [
  {
   "cell_type": "code",
   "execution_count": 1,
   "metadata": {},
   "outputs": [
    {
     "name": "stderr",
     "output_type": "stream",
     "text": [
      "Using TensorFlow backend.\n"
     ]
    }
   ],
   "source": [
    "from keras.applications import VGG16"
   ]
  },
  {
   "cell_type": "code",
   "execution_count": 2,
   "metadata": {},
   "outputs": [],
   "source": [
    "conv_base = VGG16(weights = 'imagenet',\n",
    "                 include_top = False,\n",
    "                 input_shape=(150,150,3))"
   ]
  },
  {
   "cell_type": "code",
   "execution_count": 3,
   "metadata": {},
   "outputs": [],
   "source": [
    "from keras.preprocessing.image import ImageDataGenerator\n",
    "import matplotlib.pyplot as plt\n",
    "%matplotlib inline\n",
    "import os\n",
    "import numpy as np"
   ]
  },
  {
   "cell_type": "code",
   "execution_count": 4,
   "metadata": {},
   "outputs": [],
   "source": [
    "base_dir = './datasets/cats_and_dogs_small'\n",
    "\n",
    "train_dir = os.path.join(base_dir,'train')\n",
    "\n",
    "validation_dir = os.path.join(base_dir,'validation')\n",
    "\n",
    "test_dir = os.path.join(base_dir,'test')"
   ]
  },
  {
   "cell_type": "code",
   "execution_count": 5,
   "metadata": {},
   "outputs": [],
   "source": [
    "train_datagen = ImageDataGenerator(\n",
    "    rescale=1./255,\n",
    "    rotation_range=40,\n",
    "    width_shift_range=0.2,\n",
    "    height_shift_range=0.2,\n",
    "    shear_range=0.2,\n",
    "    zoom_range=0.2,\n",
    "    horizontal_flip=True,\n",
    "    fill_mode='nearest')\n",
    "test_datagen = ImageDataGenerator(rescale=1./255)"
   ]
  },
  {
   "cell_type": "code",
   "execution_count": 6,
   "metadata": {},
   "outputs": [
    {
     "name": "stdout",
     "output_type": "stream",
     "text": [
      "Found 2000 images belonging to 2 classes.\n"
     ]
    }
   ],
   "source": [
    "train_generator = train_datagen.flow_from_directory(\n",
    "    train_dir,\n",
    "    target_size=(150,150),\n",
    "    batch_size=20,\n",
    "    class_mode='binary'\n",
    ")"
   ]
  },
  {
   "cell_type": "code",
   "execution_count": 7,
   "metadata": {},
   "outputs": [
    {
     "name": "stdout",
     "output_type": "stream",
     "text": [
      "Found 1000 images belonging to 2 classes.\n"
     ]
    }
   ],
   "source": [
    "validation_generator = test_datagen.flow_from_directory(\n",
    "    validation_dir,\n",
    "    target_size=(150,150),\n",
    "    batch_size=20,\n",
    "    class_mode='binary'\n",
    ")"
   ]
  },
  {
   "cell_type": "code",
   "execution_count": 17,
   "metadata": {},
   "outputs": [],
   "source": [
    "from keras import layers\n",
    "from keras import models\n",
    "\n",
    "\n",
    "model = models.Sequential()\n",
    "model.add(conv_base)\n",
    "\n",
    "model.add(layers.Flatten())\n",
    "model.add(layers.Dense(256,activation='relu'))\n",
    "model.add(layers.Dense(1,activation='sigmoid'))"
   ]
  },
  {
   "cell_type": "code",
   "execution_count": 18,
   "metadata": {},
   "outputs": [],
   "source": [
    "from keras import optimizers\n",
    "\n",
    "\n",
    "conv_base.trainable = False\n",
    "model.compile(loss='binary_crossentropy',\n",
    "        optimizer=optimizers.RMSprop(lr=2e-5),\n",
    "        metrics=['acc'])\n"
   ]
  },
  {
   "cell_type": "code",
   "execution_count": 19,
   "metadata": {},
   "outputs": [
    {
     "name": "stdout",
     "output_type": "stream",
     "text": [
      "4\n"
     ]
    }
   ],
   "source": [
    "print(len(model.trainable_weights))"
   ]
  },
  {
   "cell_type": "code",
   "execution_count": 20,
   "metadata": {},
   "outputs": [
    {
     "name": "stdout",
     "output_type": "stream",
     "text": [
      "Epoch 1/30\n",
      " - 174s - loss: 0.5987 - acc: 0.6810 - val_loss: 0.4878 - val_acc: 0.8190\n",
      "Epoch 2/30\n",
      " - 187s - loss: 0.4888 - acc: 0.7740 - val_loss: 0.3462 - val_acc: 0.8570\n",
      "Epoch 3/30\n",
      " - 189s - loss: 0.4352 - acc: 0.8080 - val_loss: 0.5085 - val_acc: 0.8720\n",
      "Epoch 4/30\n",
      " - 193s - loss: 0.4064 - acc: 0.8160 - val_loss: 0.2101 - val_acc: 0.8680\n",
      "Epoch 5/30\n",
      " - 197s - loss: 0.3880 - acc: 0.8275 - val_loss: 0.3700 - val_acc: 0.8750\n",
      "Epoch 6/30\n",
      " - 198s - loss: 0.3690 - acc: 0.8385 - val_loss: 0.1807 - val_acc: 0.8890\n",
      "Epoch 7/30\n",
      " - 215s - loss: 0.3621 - acc: 0.8330 - val_loss: 0.3746 - val_acc: 0.8880\n",
      "Epoch 8/30\n",
      " - 198s - loss: 0.3705 - acc: 0.8295 - val_loss: 0.2552 - val_acc: 0.8900\n",
      "Epoch 9/30\n",
      " - 200s - loss: 0.3473 - acc: 0.8470 - val_loss: 0.2879 - val_acc: 0.8920\n",
      "Epoch 10/30\n",
      " - 203s - loss: 0.3296 - acc: 0.8545 - val_loss: 0.3069 - val_acc: 0.8940\n",
      "Epoch 11/30\n",
      " - 210s - loss: 0.3343 - acc: 0.8570 - val_loss: 0.3862 - val_acc: 0.8940\n",
      "Epoch 12/30\n",
      " - 171s - loss: 0.3278 - acc: 0.8535 - val_loss: 0.2560 - val_acc: 0.8950\n",
      "Epoch 13/30\n",
      " - 162s - loss: 0.3196 - acc: 0.8620 - val_loss: 0.2106 - val_acc: 0.9020\n",
      "Epoch 14/30\n",
      " - 160s - loss: 0.3090 - acc: 0.8605 - val_loss: 0.2913 - val_acc: 0.9060\n",
      "Epoch 15/30\n",
      " - 161s - loss: 0.3081 - acc: 0.8650 - val_loss: 0.4186 - val_acc: 0.9030\n",
      "Epoch 16/30\n",
      " - 161s - loss: 0.3288 - acc: 0.8580 - val_loss: 0.1448 - val_acc: 0.9030\n",
      "Epoch 17/30\n",
      " - 163s - loss: 0.3138 - acc: 0.8630 - val_loss: 0.1336 - val_acc: 0.9050\n",
      "Epoch 18/30\n",
      " - 160s - loss: 0.3119 - acc: 0.8690 - val_loss: 0.4048 - val_acc: 0.9040\n",
      "Epoch 19/30\n",
      " - 163s - loss: 0.3086 - acc: 0.8635 - val_loss: 0.3316 - val_acc: 0.9000\n",
      "Epoch 20/30\n",
      " - 161s - loss: 0.2982 - acc: 0.8735 - val_loss: 0.2481 - val_acc: 0.9040\n",
      "Epoch 21/30\n",
      " - 164s - loss: 0.3105 - acc: 0.8650 - val_loss: 0.1525 - val_acc: 0.8940\n",
      "Epoch 22/30\n",
      " - 161s - loss: 0.2925 - acc: 0.8735 - val_loss: 0.2923 - val_acc: 0.8970\n",
      "Epoch 23/30\n",
      " - 166s - loss: 0.2997 - acc: 0.8720 - val_loss: 0.2225 - val_acc: 0.9020\n",
      "Epoch 24/30\n",
      " - 165s - loss: 0.2953 - acc: 0.8700 - val_loss: 0.2583 - val_acc: 0.8980\n",
      "Epoch 25/30\n",
      " - 163s - loss: 0.3059 - acc: 0.8655 - val_loss: 0.2791 - val_acc: 0.8970\n",
      "Epoch 26/30\n",
      " - 167s - loss: 0.2889 - acc: 0.8745 - val_loss: 0.1582 - val_acc: 0.9060\n",
      "Epoch 27/30\n",
      " - 161s - loss: 0.2782 - acc: 0.8805 - val_loss: 0.2340 - val_acc: 0.9040\n",
      "Epoch 28/30\n",
      " - 163s - loss: 0.2840 - acc: 0.8775 - val_loss: 0.1912 - val_acc: 0.9020\n",
      "Epoch 29/30\n",
      " - 161s - loss: 0.2910 - acc: 0.8710 - val_loss: 0.1210 - val_acc: 0.8990\n",
      "Epoch 30/30\n",
      " - 165s - loss: 0.2836 - acc: 0.8790 - val_loss: 0.2330 - val_acc: 0.9030\n"
     ]
    }
   ],
   "source": [
    "history = model.fit_generator(\n",
    "    train_generator,\n",
    "    steps_per_epoch=100,\n",
    "    epochs=30,\n",
    "    validation_data=validation_generator,\n",
    "    validation_steps=50,\n",
    "    verbose=2\n",
    ")"
   ]
  },
  {
   "cell_type": "code",
   "execution_count": 21,
   "metadata": {},
   "outputs": [
    {
     "data": {
      "image/png": "[encoded data removed]",
      "text/plain": [
       "<Figure size 432x288 with 1 Axes>"
      ]
     },
     "metadata": {
      "needs_background": "light"
     },
     "output_type": "display_data"
    },
    {
     "data": {
      "image/png": "[encoded data removed]",
      "text/plain": [
       "<Figure size 432x288 with 1 Axes>"
      ]
     },
     "metadata": {
      "needs_background": "light"
     },
     "output_type": "display_data"
    }
   ],
   "source": [
    "acc = history.history['acc']\n",
    "val_acc = history.history['val_acc']\n",
    "loss = history.history['loss']\n",
    "val_loss = history.history['val_loss']\n",
    "\n",
    "epochs = range(1, len(acc)+1)\n",
    "\n",
    "plt.plot(epochs, acc, 'bo', label='trainning acc')\n",
    "plt.plot(epochs, val_acc, 'b', label='validation acc')\n",
    "plt.title('training and validation accuracy')\n",
    "plt.legend()\n",
    "plt.figure()\n",
    "\n",
    "plt.plot(epochs, loss, 'bo', label='trainning loss')\n",
    "plt.plot(epochs, val_loss, 'b', label='validation loss')\n",
    "plt.title('training and validation loss')\n",
    "plt.legend()\n",
    "\n",
    "plt.show()"
   ]
  },
  {
   "cell_type": "code",
   "execution_count": null,
   "metadata": {},
   "outputs": [],
   "source": []
  }
 ],
 "metadata": {
  "kernelspec": {
   "display_name": "tf36",
   "language": "python",
   "name": "tf36"
  },
  "language_info": {
   "codemirror_mode": {
    "name": "ipython",
    "version": 3
   },
   "file_extension": ".py",
   "mimetype": "text/x-python",
   "name": "python",
   "nbconvert_exporter": "python",
   "pygments_lexer": "ipython3",
   "version": "3.6.8"
  }
 },
 "nbformat": 4,
 "nbformat_minor": 2
}
