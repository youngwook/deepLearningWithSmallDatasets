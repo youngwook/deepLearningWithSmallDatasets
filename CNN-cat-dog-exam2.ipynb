{
 "cells": [
  {
   "cell_type": "code",
   "execution_count": null,
   "metadata": {},
   "outputs": [],
   "source": [
    "#import libraries"
   ]
  },
  {
   "cell_type": "code",
   "execution_count": 1,
   "metadata": {},
   "outputs": [
    {
     "name": "stderr",
     "output_type": "stream",
     "text": [
      "Using TensorFlow backend.\n"
     ]
    }
   ],
   "source": [
    "from keras.preprocessing.image import ImageDataGenerator\n",
    "import matplotlib.pyplot as plt\n",
    "%matplotlib inline\n",
    "import os"
   ]
  },
  {
   "cell_type": "code",
   "execution_count": 2,
   "metadata": {},
   "outputs": [],
   "source": [
    "train_datagen = ImageDataGenerator(rescale=1./255)\n",
    "test_datagen = ImageDataGenerator(rescale=1./255)"
   ]
  },
  {
   "cell_type": "code",
   "execution_count": null,
   "metadata": {},
   "outputs": [],
   "source": [
    "#create directory path"
   ]
  },
  {
   "cell_type": "code",
   "execution_count": 3,
   "metadata": {},
   "outputs": [],
   "source": [
    "original_dataset_dir = './datasets/cats_and_dogs/train'\n",
    "\n",
    "base_dir = './datasets/cats_and_dogs_small'\n",
    "\n",
    "train_dir = os.path.join(base_dir,'train')\n",
    "\n",
    "validation_dir = os.path.join(base_dir,'validation')\n",
    "\n",
    "test_dir = os.path.join(base_dir,'test')\n",
    "\n",
    "train_cats_dir = os.path.join(train_dir,'cats')\n",
    "\n",
    "train_dogs_dir = os.path.join(train_dir,'dogs')\n",
    "\n",
    "validation_cats_dir = os.path.join(validation_dir,'cats')\n",
    "\n",
    "validation_dogs_dir = os.path.join(validation_dir,'dogs')\n",
    "\n",
    "test_cats_dir = os.path.join(test_dir,'cats')\n",
    "\n",
    "test_dogs_dir = os.path.join(test_dir,'dogs')"
   ]
  },
  {
   "cell_type": "code",
   "execution_count": null,
   "metadata": {},
   "outputs": [],
   "source": [
    "#read data from directory then Switched image size to 150 * 150"
   ]
  },
  {
   "cell_type": "code",
   "execution_count": 4,
   "metadata": {},
   "outputs": [
    {
     "name": "stdout",
     "output_type": "stream",
     "text": [
      "Found 2000 images belonging to 2 classes.\n"
     ]
    }
   ],
   "source": [
    "train_generator = train_datagen.flow_from_directory(\n",
    "    train_dir,\n",
    "    target_size=(150,150),\n",
    "    batch_size=20,\n",
    "    class_mode='binary'\n",
    ")"
   ]
  },
  {
   "cell_type": "code",
   "execution_count": 5,
   "metadata": {},
   "outputs": [
    {
     "name": "stdout",
     "output_type": "stream",
     "text": [
      "Found 1000 images belonging to 2 classes.\n"
     ]
    }
   ],
   "source": [
    "validation_generator = test_datagen.flow_from_directory(\n",
    "    validation_dir,\n",
    "    target_size=(150,150),\n",
    "    batch_size=20,\n",
    "    class_mode='binary'\n",
    ")"
   ]
  },
  {
   "cell_type": "code",
   "execution_count": null,
   "metadata": {},
   "outputs": [],
   "source": [
    "#generate model\n",
    "#Composite convolution layer composed of Conv2D (relu activation function) and MaxPooling2D layer.\n",
    "#this is binary classification of cats and dogs, Therefore ends with dense layer with one node and sigmoid activation function."
   ]
  },
  {
   "cell_type": "code",
   "execution_count": 6,
   "metadata": {},
   "outputs": [],
   "source": [
    "from keras import layers\n",
    "from keras import models\n",
    "\n",
    "\n",
    "model = models.Sequential()\n",
    "model.add(layers.Conv2D(32,(3,3), activation='relu', input_shape=(150,150,3)))\n",
    "model.add(layers.MaxPooling2D((2,2)))\n",
    "model.add(layers.Conv2D(64,(3,3), activation='relu'))\n",
    "model.add(layers.MaxPooling2D((2,2)))\n",
    "model.add(layers.Conv2D(128,(3,3), activation='relu'))\n",
    "model.add(layers.MaxPooling2D((2,2)))\n",
    "model.add(layers.Conv2D(128,(3,3), activation='relu'))\n",
    "model.add(layers.MaxPooling2D((2,2)))\n",
    "\n",
    "model.add(layers.Flatten())\n",
    "model.add(layers.Dense(512,activation='relu'))\n",
    "model.add(layers.Dense(1,activation='sigmoid'))"
   ]
  },
  {
   "cell_type": "code",
   "execution_count": 7,
   "metadata": {},
   "outputs": [
    {
     "name": "stdout",
     "output_type": "stream",
     "text": [
      "Model: \"sequential_1\"\n",
      "_________________________________________________________________\n",
      "Layer (type)                 Output Shape              Param #   \n",
      "=================================================================\n",
      "conv2d_1 (Conv2D)            (None, 148, 148, 32)      896       \n",
      "_________________________________________________________________\n",
      "max_pooling2d_1 (MaxPooling2 (None, 74, 74, 32)        0         \n",
      "_________________________________________________________________\n",
      "conv2d_2 (Conv2D)            (None, 72, 72, 64)        18496     \n",
      "_________________________________________________________________\n",
      "max_pooling2d_2 (MaxPooling2 (None, 36, 36, 64)        0         \n",
      "_________________________________________________________________\n",
      "conv2d_3 (Conv2D)            (None, 34, 34, 128)       73856     \n",
      "_________________________________________________________________\n",
      "max_pooling2d_3 (MaxPooling2 (None, 17, 17, 128)       0         \n",
      "_________________________________________________________________\n",
      "conv2d_4 (Conv2D)            (None, 15, 15, 128)       147584    \n",
      "_________________________________________________________________\n",
      "max_pooling2d_4 (MaxPooling2 (None, 7, 7, 128)         0         \n",
      "_________________________________________________________________\n",
      "flatten_1 (Flatten)          (None, 6272)              0         \n",
      "_________________________________________________________________\n",
      "dense_1 (Dense)              (None, 512)               3211776   \n",
      "_________________________________________________________________\n",
      "dense_2 (Dense)              (None, 1)                 513       \n",
      "=================================================================\n",
      "Total params: 3,453,121\n",
      "Trainable params: 3,453,121\n",
      "Non-trainable params: 0\n",
      "_________________________________________________________________\n"
     ]
    }
   ],
   "source": [
    "model.summary()"
   ]
  },
  {
   "cell_type": "code",
   "execution_count": null,
   "metadata": {},
   "outputs": [],
   "source": [
    "#complete model with loss function and optimizer"
   ]
  },
  {
   "cell_type": "code",
   "execution_count": 8,
   "metadata": {},
   "outputs": [],
   "source": [
    "from keras import optimizers\n",
    "model.compile(loss='binary_crossentropy',\n",
    "        optimizer=optimizers.RMSprop(lr=1e-4),\n",
    "        metrics=['acc'])"
   ]
  },
  {
   "cell_type": "code",
   "execution_count": null,
   "metadata": {},
   "outputs": [],
   "source": [
    "#Steps_per_epoch: Specifies how many data to enter in one epoch (as the batch size is 20, it is set to 100 to input 2000 data). \n",
    "#Epochs is Repeat count. \n",
    "\n",
    "#train model then validate it"
   ]
  },
  {
   "cell_type": "code",
   "execution_count": 9,
   "metadata": {
    "scrolled": true
   },
   "outputs": [
    {
     "name": "stdout",
     "output_type": "stream",
     "text": [
      "Epoch 1/30\n",
      "100/100 [==============================] - 34s 338ms/step - loss: 0.6900 - acc: 0.5385 - val_loss: 0.6529 - val_acc: 0.6170\n",
      "Epoch 2/30\n",
      "100/100 [==============================] - 33s 333ms/step - loss: 0.6571 - acc: 0.6180 - val_loss: 0.6133 - val_acc: 0.6170\n",
      "Epoch 3/30\n",
      "100/100 [==============================] - 36s 358ms/step - loss: 0.6097 - acc: 0.6670 - val_loss: 0.6780 - val_acc: 0.6770\n",
      "Epoch 4/30\n",
      "100/100 [==============================] - 37s 369ms/step - loss: 0.5662 - acc: 0.7070 - val_loss: 0.6714 - val_acc: 0.6850\n",
      "Epoch 5/30\n",
      "100/100 [==============================] - 37s 367ms/step - loss: 0.5360 - acc: 0.7240 - val_loss: 0.7657 - val_acc: 0.5570\n",
      "Epoch 6/30\n",
      "100/100 [==============================] - 35s 351ms/step - loss: 0.5090 - acc: 0.7435 - val_loss: 0.6447 - val_acc: 0.6700\n",
      "Epoch 7/30\n",
      "100/100 [==============================] - 36s 361ms/step - loss: 0.4898 - acc: 0.7605 - val_loss: 0.8054 - val_acc: 0.6150\n",
      "Epoch 8/30\n",
      "100/100 [==============================] - 36s 357ms/step - loss: 0.4579 - acc: 0.7775 - val_loss: 0.7210 - val_acc: 0.7220\n",
      "Epoch 9/30\n",
      "100/100 [==============================] - 36s 359ms/step - loss: 0.4367 - acc: 0.7970 - val_loss: 0.4951 - val_acc: 0.7160\n",
      "Epoch 10/30\n",
      "100/100 [==============================] - 35s 355ms/step - loss: 0.4039 - acc: 0.8170 - val_loss: 0.3713 - val_acc: 0.7190\n",
      "Epoch 11/30\n",
      "100/100 [==============================] - 37s 372ms/step - loss: 0.3839 - acc: 0.8365 - val_loss: 0.5702 - val_acc: 0.7260\n",
      "Epoch 12/30\n",
      "100/100 [==============================] - 36s 360ms/step - loss: 0.3554 - acc: 0.8480 - val_loss: 0.4257 - val_acc: 0.7380\n",
      "Epoch 13/30\n",
      "100/100 [==============================] - 36s 364ms/step - loss: 0.3387 - acc: 0.8645 - val_loss: 0.8032 - val_acc: 0.7470\n",
      "Epoch 14/30\n",
      "100/100 [==============================] - 36s 364ms/step - loss: 0.3054 - acc: 0.8675 - val_loss: 0.8525 - val_acc: 0.7100\n",
      "Epoch 15/30\n",
      "100/100 [==============================] - 36s 355ms/step - loss: 0.2871 - acc: 0.8810 - val_loss: 0.5129 - val_acc: 0.7470\n",
      "Epoch 16/30\n",
      "100/100 [==============================] - 36s 355ms/step - loss: 0.2705 - acc: 0.8905 - val_loss: 0.4422 - val_acc: 0.7470\n",
      "Epoch 17/30\n",
      "100/100 [==============================] - 38s 378ms/step - loss: 0.2502 - acc: 0.9000 - val_loss: 0.5350 - val_acc: 0.7530\n",
      "Epoch 18/30\n",
      "100/100 [==============================] - 35s 354ms/step - loss: 0.2311 - acc: 0.9095 - val_loss: 1.0427 - val_acc: 0.7490\n",
      "Epoch 19/30\n",
      "100/100 [==============================] - 36s 361ms/step - loss: 0.2068 - acc: 0.9160 - val_loss: 0.6520 - val_acc: 0.7420\n",
      "Epoch 20/30\n",
      "100/100 [==============================] - 35s 352ms/step - loss: 0.1905 - acc: 0.9235 - val_loss: 0.5652 - val_acc: 0.7450\n",
      "Epoch 21/30\n",
      "100/100 [==============================] - 35s 354ms/step - loss: 0.1717 - acc: 0.9410 - val_loss: 0.5489 - val_acc: 0.7590\n",
      "Epoch 22/30\n",
      "100/100 [==============================] - 36s 364ms/step - loss: 0.1554 - acc: 0.9470 - val_loss: 0.6988 - val_acc: 0.7520\n",
      "Epoch 23/30\n",
      "100/100 [==============================] - 36s 363ms/step - loss: 0.1326 - acc: 0.9640 - val_loss: 0.8074 - val_acc: 0.7560\n",
      "Epoch 24/30\n",
      "100/100 [==============================] - 36s 364ms/step - loss: 0.1284 - acc: 0.9510 - val_loss: 0.6382 - val_acc: 0.7700\n",
      "Epoch 25/30\n",
      "100/100 [==============================] - 36s 361ms/step - loss: 0.1058 - acc: 0.9660 - val_loss: 0.6831 - val_acc: 0.7470\n",
      "Epoch 26/30\n",
      "100/100 [==============================] - 36s 357ms/step - loss: 0.0949 - acc: 0.9715 - val_loss: 1.3381 - val_acc: 0.7340\n",
      "Epoch 27/30\n",
      "100/100 [==============================] - 36s 360ms/step - loss: 0.0767 - acc: 0.9775 - val_loss: 0.5273 - val_acc: 0.7640\n",
      "Epoch 28/30\n",
      "100/100 [==============================] - 36s 358ms/step - loss: 0.0720 - acc: 0.9775 - val_loss: 0.5645 - val_acc: 0.7630\n",
      "Epoch 29/30\n",
      "100/100 [==============================] - 35s 353ms/step - loss: 0.0641 - acc: 0.9830 - val_loss: 0.8824 - val_acc: 0.7570\n",
      "Epoch 30/30\n",
      "100/100 [==============================] - 37s 368ms/step - loss: 0.0493 - acc: 0.9870 - val_loss: 0.6516 - val_acc: 0.7660\n"
     ]
    }
   ],
   "source": [
    "history = model.fit_generator(\n",
    "    train_generator,\n",
    "    steps_per_epoch=100,\n",
    "    epochs=30,\n",
    "    validation_data=validation_generator,\n",
    "    validation_steps=50\n",
    ")"
   ]
  },
  {
   "cell_type": "code",
   "execution_count": 10,
   "metadata": {},
   "outputs": [],
   "source": [
    "model.save('cats_and_dogs_small_1.h5')"
   ]
  },
  {
   "cell_type": "code",
   "execution_count": 11,
   "metadata": {},
   "outputs": [
    {
     "data": {
      "image/png": "[encoded data removed]",
      "text/plain": [
       "<Figure size 432x288 with 1 Axes>"
      ]
     },
     "metadata": {
      "needs_background": "light"
     },
     "output_type": "display_data"
    },
    {
     "data": {
      "image/png": "[encoded data removed]",
      "text/plain": [
       "<Figure size 432x288 with 1 Axes>"
      ]
     },
     "metadata": {
      "needs_background": "light"
     },
     "output_type": "display_data"
    }
   ],
   "source": [
    "acc = history.history['acc']\n",
    "val_acc = history.history['val_acc']\n",
    "loss = history.history['loss']\n",
    "val_loss = history.history['val_loss']\n",
    "\n",
    "epochs = range(1, len(acc)+1)\n",
    "\n",
    "plt.plot(epochs, acc, 'bo', label='trainning acc')\n",
    "plt.plot(epochs, val_acc, 'b', label='validation acc')\n",
    "plt.title('training and validation accuracy')\n",
    "plt.legend()\n",
    "plt.figure()\n",
    "\n",
    "plt.plot(epochs, loss, 'bo', label='trainning loss')\n",
    "plt.plot(epochs, val_loss, 'b', label='validation loss')\n",
    "plt.title('training and validation loss')\n",
    "plt.legend()\n",
    "\n",
    "plt.show()"
   ]
  },
  {
   "cell_type": "code",
   "execution_count": null,
   "metadata": {},
   "outputs": [],
   "source": []
  }
 ],
 "metadata": {
  "kernelspec": {
   "display_name": "tf36",
   "language": "python",
   "name": "tf36"
  },
  "language_info": {
   "codemirror_mode": {
    "name": "ipython",
    "version": 3
   },
   "file_extension": ".py",
   "mimetype": "text/x-python",
   "name": "python",
   "nbconvert_exporter": "python",
   "pygments_lexer": "ipython3",
   "version": "3.6.8"
  }
 },
 "nbformat": 4,
 "nbformat_minor": 2
}
