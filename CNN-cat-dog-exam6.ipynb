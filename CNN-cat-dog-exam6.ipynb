{
 "cells": [
  {
   "cell_type": "code",
   "execution_count": null,
   "metadata": {},
   "outputs": [],
   "source": [
    "#Read VGG16 model through keras."
   ]
  },
  {
   "cell_type": "code",
   "execution_count": 1,
   "metadata": {},
   "outputs": [
    {
     "name": "stderr",
     "output_type": "stream",
     "text": [
      "Using TensorFlow backend.\n"
     ]
    }
   ],
   "source": [
    "from keras.applications import VGG16"
   ]
  },
  {
   "cell_type": "code",
   "execution_count": null,
   "metadata": {},
   "outputs": [],
   "source": [
    "#Model configurations: 1. weights specifies the weight checkpoints to initialize the model. Include_top determines whether or not the complete connection layer is included. Input_shape sets the size of the input data."
   ]
  },
  {
   "cell_type": "code",
   "execution_count": 2,
   "metadata": {},
   "outputs": [],
   "source": [
    "conv_base = VGG16(weights = 'imagenet',\n",
    "                 include_top = False,\n",
    "                 input_shape=(150,150,3))"
   ]
  },
  {
   "cell_type": "code",
   "execution_count": 3,
   "metadata": {},
   "outputs": [],
   "source": [
    "from keras.preprocessing.image import ImageDataGenerator\n",
    "import matplotlib.pyplot as plt\n",
    "%matplotlib inline\n",
    "import os\n",
    "import numpy as np"
   ]
  },
  {
   "cell_type": "code",
   "execution_count": 4,
   "metadata": {},
   "outputs": [],
   "source": [
    "base_dir = './datasets/cats_and_dogs_small'\n",
    "\n",
    "train_dir = os.path.join(base_dir,'train')\n",
    "\n",
    "validation_dir = os.path.join(base_dir,'validation')\n",
    "\n",
    "test_dir = os.path.join(base_dir,'test')"
   ]
  },
  {
   "cell_type": "code",
   "execution_count": 5,
   "metadata": {},
   "outputs": [],
   "source": [
    "train_datagen = ImageDataGenerator(\n",
    "    rescale=1./255,\n",
    "    rotation_range=40,\n",
    "    width_shift_range=0.2,\n",
    "    height_shift_range=0.2,\n",
    "    shear_range=0.2,\n",
    "    zoom_range=0.2,\n",
    "    horizontal_flip=True,\n",
    "    fill_mode='nearest')\n",
    "test_datagen = ImageDataGenerator(rescale=1./255)"
   ]
  },
  {
   "cell_type": "code",
   "execution_count": 6,
   "metadata": {},
   "outputs": [
    {
     "name": "stdout",
     "output_type": "stream",
     "text": [
      "Found 2000 images belonging to 2 classes.\n"
     ]
    }
   ],
   "source": [
    "train_generator = train_datagen.flow_from_directory(\n",
    "    train_dir,\n",
    "    target_size=(150,150),\n",
    "    batch_size=20,\n",
    "    class_mode='binary'\n",
    ")"
   ]
  },
  {
   "cell_type": "code",
   "execution_count": 7,
   "metadata": {},
   "outputs": [
    {
     "name": "stdout",
     "output_type": "stream",
     "text": [
      "Found 1000 images belonging to 2 classes.\n"
     ]
    }
   ],
   "source": [
    "validation_generator = test_datagen.flow_from_directory(\n",
    "    validation_dir,\n",
    "    target_size=(150,150),\n",
    "    batch_size=20,\n",
    "    class_mode='binary'\n",
    ")"
   ]
  },
  {
   "cell_type": "code",
   "execution_count": null,
   "metadata": {},
   "outputs": [],
   "source": [
    "#Replace the convolution layer with pre-trained one"
   ]
  },
  {
   "cell_type": "code",
   "execution_count": 8,
   "metadata": {},
   "outputs": [],
   "source": [
    "from keras import layers\n",
    "from keras import models\n",
    "\n",
    "\n",
    "model = models.Sequential()\n",
    "model.add(conv_base)\n",
    "\n",
    "model.add(layers.Flatten())\n",
    "model.add(layers.Dense(256,activation='relu'))\n",
    "model.add(layers.Dense(1,activation='sigmoid'))"
   ]
  },
  {
   "cell_type": "code",
   "execution_count": null,
   "metadata": {},
   "outputs": [],
   "source": [
    "#config fine tune block of convolution layer.\n",
    "#complete model with loss function and optimizer"
   ]
  },
  {
   "cell_type": "code",
   "execution_count": 10,
   "metadata": {},
   "outputs": [],
   "source": [
    "from keras import optimizers\n",
    "\n",
    "conv_base.trainable = True\n",
    "set_trainable = False\n",
    "\n",
    "for layer in conv_base.layers:\n",
    "    if layer.name == 'block5_conv1':\n",
    "        set_trainable = True\n",
    "    if set_trainable:\n",
    "        layer.trainable = True\n",
    "    else:\n",
    "        layer.trainable = False\n",
    "\n",
    "model.compile(loss='binary_crossentropy',\n",
    "        optimizer=optimizers.RMSprop(lr=1e-5),\n",
    "        metrics=['acc'])"
   ]
  },
  {
   "cell_type": "code",
   "execution_count": null,
   "metadata": {},
   "outputs": [],
   "source": [
    "#train model then validate it"
   ]
  },
  {
   "cell_type": "code",
   "execution_count": 11,
   "metadata": {},
   "outputs": [
    {
     "name": "stdout",
     "output_type": "stream",
     "text": [
      "Epoch 1/30\n",
      "100/100 [==============================] - 182s 2s/step - loss: 0.5205 - acc: 0.7495 - val_loss: 0.2867 - val_acc: 0.8740\n",
      "Epoch 2/30\n",
      "100/100 [==============================] - 186s 2s/step - loss: 0.3743 - acc: 0.8245 - val_loss: 0.0754 - val_acc: 0.9060\n",
      "Epoch 3/30\n",
      "100/100 [==============================] - 189s 2s/step - loss: 0.3201 - acc: 0.8475 - val_loss: 0.2098 - val_acc: 0.9080\n",
      "Epoch 4/30\n",
      "100/100 [==============================] - 190s 2s/step - loss: 0.2899 - acc: 0.8790 - val_loss: 0.1404 - val_acc: 0.8900\n",
      "Epoch 5/30\n",
      "100/100 [==============================] - 190s 2s/step - loss: 0.2785 - acc: 0.8760 - val_loss: 0.0418 - val_acc: 0.9190\n",
      "Epoch 6/30\n",
      "100/100 [==============================] - 190s 2s/step - loss: 0.2764 - acc: 0.8800 - val_loss: 0.1151 - val_acc: 0.9190\n",
      "Epoch 7/30\n",
      "100/100 [==============================] - 188s 2s/step - loss: 0.2242 - acc: 0.9060 - val_loss: 0.0277 - val_acc: 0.9170\n",
      "Epoch 8/30\n",
      "100/100 [==============================] - 191s 2s/step - loss: 0.2345 - acc: 0.8990 - val_loss: 0.1949 - val_acc: 0.9240\n",
      "Epoch 9/30\n",
      "100/100 [==============================] - 196s 2s/step - loss: 0.2060 - acc: 0.9155 - val_loss: 0.1751 - val_acc: 0.9260\n",
      "Epoch 10/30\n",
      "100/100 [==============================] - 190s 2s/step - loss: 0.2127 - acc: 0.9155 - val_loss: 0.0439 - val_acc: 0.9270\n",
      "Epoch 11/30\n",
      "100/100 [==============================] - 190s 2s/step - loss: 0.2065 - acc: 0.9140 - val_loss: 0.0240 - val_acc: 0.9300\n",
      "Epoch 12/30\n",
      "100/100 [==============================] - 191s 2s/step - loss: 0.1799 - acc: 0.9290 - val_loss: 0.0496 - val_acc: 0.9290\n",
      "Epoch 13/30\n",
      "100/100 [==============================] - 190s 2s/step - loss: 0.1785 - acc: 0.9315 - val_loss: 0.0375 - val_acc: 0.9360\n",
      "Epoch 14/30\n",
      "100/100 [==============================] - 190s 2s/step - loss: 0.1674 - acc: 0.9300 - val_loss: 0.1093 - val_acc: 0.9340\n",
      "Epoch 15/30\n",
      "100/100 [==============================] - 188s 2s/step - loss: 0.1610 - acc: 0.9375 - val_loss: 0.1078 - val_acc: 0.9340\n",
      "Epoch 16/30\n",
      "100/100 [==============================] - 189s 2s/step - loss: 0.1486 - acc: 0.9455 - val_loss: 0.1754 - val_acc: 0.9350\n",
      "Epoch 17/30\n",
      "100/100 [==============================] - 218s 2s/step - loss: 0.1494 - acc: 0.9385 - val_loss: 0.1433 - val_acc: 0.9320\n",
      "Epoch 18/30\n",
      "100/100 [==============================] - 217s 2s/step - loss: 0.1363 - acc: 0.9505 - val_loss: 0.0734 - val_acc: 0.9210\n",
      "Epoch 19/30\n",
      "100/100 [==============================] - 195s 2s/step - loss: 0.1390 - acc: 0.9505 - val_loss: 0.1352 - val_acc: 0.9110\n",
      "Epoch 20/30\n",
      "100/100 [==============================] - 193s 2s/step - loss: 0.1389 - acc: 0.9440 - val_loss: 0.0090 - val_acc: 0.9430\n",
      "Epoch 21/30\n",
      "100/100 [==============================] - 200s 2s/step - loss: 0.1408 - acc: 0.9385 - val_loss: 0.5016 - val_acc: 0.9390\n",
      "Epoch 22/30\n",
      "100/100 [==============================] - 200s 2s/step - loss: 0.1264 - acc: 0.9485 - val_loss: 0.1109 - val_acc: 0.9370\n",
      "Epoch 23/30\n",
      "100/100 [==============================] - 215s 2s/step - loss: 0.1242 - acc: 0.9540 - val_loss: 0.0628 - val_acc: 0.9400\n",
      "Epoch 24/30\n",
      "100/100 [==============================] - 216s 2s/step - loss: 0.1138 - acc: 0.9495 - val_loss: 0.3773 - val_acc: 0.9380\n",
      "Epoch 25/30\n",
      "100/100 [==============================] - 218s 2s/step - loss: 0.1159 - acc: 0.9555 - val_loss: 0.1958 - val_acc: 0.9190\n",
      "Epoch 26/30\n",
      "100/100 [==============================] - 211s 2s/step - loss: 0.1120 - acc: 0.9560 - val_loss: 0.1947 - val_acc: 0.9340\n",
      "Epoch 27/30\n",
      "100/100 [==============================] - 193s 2s/step - loss: 0.1028 - acc: 0.9560 - val_loss: 0.0214 - val_acc: 0.9350\n",
      "Epoch 28/30\n",
      "100/100 [==============================] - 193s 2s/step - loss: 0.1182 - acc: 0.9555 - val_loss: 0.2164 - val_acc: 0.9420\n",
      "Epoch 29/30\n",
      "100/100 [==============================] - 191s 2s/step - loss: 0.1029 - acc: 0.9595 - val_loss: 0.0094 - val_acc: 0.9400\n",
      "Epoch 30/30\n",
      "100/100 [==============================] - 194s 2s/step - loss: 0.0927 - acc: 0.9620 - val_loss: 0.0095 - val_acc: 0.9420\n"
     ]
    }
   ],
   "source": [
    "history = model.fit_generator(\n",
    "    train_generator,\n",
    "    steps_per_epoch=100,\n",
    "    epochs=30,\n",
    "    validation_data=validation_generator,\n",
    "    validation_steps=50\n",
    ")"
   ]
  },
  {
   "cell_type": "code",
   "execution_count": 12,
   "metadata": {},
   "outputs": [
    {
     "data": {
      "image/png": "[encoded data removed]",
      "text/plain": [
       "<Figure size 432x288 with 1 Axes>"
      ]
     },
     "metadata": {
      "needs_background": "light"
     },
     "output_type": "display_data"
    },
    {
     "data": {
      "image/png": "[encoded data removed]",
      "text/plain": [
       "<Figure size 432x288 with 1 Axes>"
      ]
     },
     "metadata": {
      "needs_background": "light"
     },
     "output_type": "display_data"
    }
   ],
   "source": [
    "acc = history.history['acc']\n",
    "val_acc = history.history['val_acc']\n",
    "loss = history.history['loss']\n",
    "val_loss = history.history['val_loss']\n",
    "\n",
    "epochs = range(1, len(acc)+1)\n",
    "\n",
    "plt.plot(epochs, acc, 'bo', label='trainning acc')\n",
    "plt.plot(epochs, val_acc, 'b', label='validation acc')\n",
    "plt.title('training and validation accuracy')\n",
    "plt.legend()\n",
    "plt.figure()\n",
    "\n",
    "plt.plot(epochs, loss, 'bo', label='trainning loss')\n",
    "plt.plot(epochs, val_loss, 'b', label='validation loss')\n",
    "plt.title('training and validation loss')\n",
    "plt.legend()\n",
    "\n",
    "plt.show()"
   ]
  },
  {
   "cell_type": "code",
   "execution_count": null,
   "metadata": {},
   "outputs": [],
   "source": []
  }
 ],
 "metadata": {
  "kernelspec": {
   "display_name": "tf36",
   "language": "python",
   "name": "tf36"
  },
  "language_info": {
   "codemirror_mode": {
    "name": "ipython",
    "version": 3
   },
   "file_extension": ".py",
   "mimetype": "text/x-python",
   "name": "python",
   "nbconvert_exporter": "python",
   "pygments_lexer": "ipython3",
   "version": "3.6.8"
  }
 },
 "nbformat": 4,
 "nbformat_minor": 2
}
